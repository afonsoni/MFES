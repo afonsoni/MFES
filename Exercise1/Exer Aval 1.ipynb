{
  "nbformat": 4,
  "nbformat_minor": 0,
  "metadata": {
    "colab": {
      "provenance": []
    },
    "kernelspec": {
      "name": "python3",
      "display_name": "Python 3"
    },
    "language_info": {
      "name": "python"
    }
  },
  "cells": [
    {
      "cell_type": "markdown",
      "source": [
        "# SAT Solvers - Exercício de avaliação"
      ],
      "metadata": {
        "id": "SBRSSIFBqCt1"
      }
    },
    {
      "cell_type": "markdown",
      "source": [
        "Número: pg52669\n",
        "\n",
        "Nome: Afonso Nogueira Ferreira\n",
        "\n",
        "Curso: Mestrado em Engenharia Informática"
      ],
      "metadata": {
        "id": "3mMQiIJrp-C8"
      }
    },
    {
      "cell_type": "code",
      "execution_count": null,
      "metadata": {
        "colab": {
          "base_uri": "https://localhost:8080/"
        },
        "id": "Y6Bonlqep7QQ",
        "outputId": "728c64f2-2b1b-415d-841d-4bcae27c199a"
      },
      "outputs": [
        {
          "output_type": "stream",
          "name": "stdout",
          "text": [
            "Requirement already satisfied: z3-solver in /usr/local/lib/python3.10/dist-packages (4.12.2.0)\n"
          ]
        }
      ],
      "source": [
        "!pip install z3-solver"
      ]
    },
    {
      "cell_type": "markdown",
      "source": [
        "#Coloração de Azulejos\n",
        "\n",
        "1. Cada azulejo tem uma única cor.\n",
        "2. Os azulejos das extremidades têm que ter a mesma cor.\n",
        "3. Todas as cores têm que ser usadas.\n",
        "4. O azulejo do meio só pode ser pintado de cinzento ou preto.\n",
        "5. O penúltimo azulejo da sequência tem que ser preto, excepto se o último estiver pintado\n",
        "de preto.\n",
        "6. Azulejos seguidos não podem ser pintados da mesma cor.\n",
        "7. Caso o primeiro azulejo seja verde e o terceiro não seja preto, o segundo terá que ser\n",
        "cinzento ou preto.\n",
        "8. Os azulejos na terceira e na sétima posição só podem ser pintados de azul ou de verde."
      ],
      "metadata": {
        "id": "hZz6TzWXquJ1"
      }
    },
    {
      "cell_type": "code",
      "source": [
        "from z3 import *\n",
        "\n",
        "azulejos = [1,2,3,4,5,6,7,8,9]\n",
        "cores = [\"Azul\", \"Verde\", \"Cinzento\", \"Preto\"]\n",
        "x = {}\n",
        "for a in azulejos:\n",
        "  x[a] = {}\n",
        "  for c in cores:\n",
        "    x[a][c] = Bool(\"%d,%s\" % (a,c))\n",
        "\n",
        "s = Solver()\n",
        "\n",
        "# Cada azulejo tem pelo menos uma cor.\n",
        "for a in azulejos:\n",
        "  s.add(Or(x[a][\"Azul\"],x[a][\"Verde\"],x[a][\"Cinzento\"],x[a][\"Preto\"]))\n",
        "\n",
        "# Cada azulejo tem uma única cor.\n",
        "for a in azulejos:\n",
        "    for i in range(len(cores)-1):\n",
        "        for j in range(i+1,len(cores)):\n",
        "            s.add(Implies(x[a][cores[i]],Not(x[a][cores[j]])))\n",
        "\n",
        "# Os azulejos das extremidades têm que ter a mesma cor.\n",
        "for c in cores:\n",
        "  s.add(Implies(x[1][c],x[9][c]))\n",
        "\n",
        "# Todas as cores têm que ser usadas.\n",
        "for c in cores:\n",
        "   s.add(Or([x[a][c] for a in azulejos]))\n",
        "\n",
        "# O azulejo do meio só pode ser pintado de cinzento ou preto.\n",
        "s.add(Or(x[5][\"Cinzento\"],x[5][\"Preto\"]))\n",
        "\n",
        "# O penúltimo azulejo da sequência tem que ser preto, excepto se o último estiver pintado de preto.\n",
        "s.add(Implies(Not(x[9][\"Preto\"]),x[8][\"Preto\"]))\n",
        "\n",
        "# Azulejos seguidos não podem ser pintados da mesma cor.\n",
        "for c in cores:\n",
        "  for i in range(len(azulejos)-1):\n",
        "    s.add(Implies(x[azulejos[i]][c],Not(x[azulejos[i+1]][c])))\n",
        "\n",
        "# Caso o primeiro azulejo seja verde e o terceiro não seja preto, o segundo terá que ser cinzento ou preto.\n",
        "s.add(Implies(And(x[1][\"Verde\"],Not(x[3][\"Preto\"])),Or(x[2][\"Cinzento\"],x[2][\"Preto\"])))\n",
        "\n",
        "# Os azulejos na terceira e na sétima posição só podem ser pintados de azul ou de verde.\n",
        "s.add(And(Or(x[3][\"Azul\"],x[3][\"Verde\"]),Or(x[7][\"Azul\"],x[7][\"Verde\"])))\n"
      ],
      "metadata": {
        "id": "_oSe_SbWrXl1"
      },
      "execution_count": null,
      "outputs": []
    },
    {
      "cell_type": "markdown",
      "source": [
        "1. Codifique o problema num solver e comprove que o conjunto de fórmulas é consistente"
      ],
      "metadata": {
        "id": "US_LnkfXA7h8"
      }
    },
    {
      "cell_type": "code",
      "source": [
        "if s.check() == sat:\n",
        "  m = s.model()\n",
        "  print(\"O conjunto de fórmulas é consistente.\")\n",
        "  print(\"Exemplo:\")\n",
        "  for a in azulejos:\n",
        "    for c in cores:\n",
        "      if is_true(m[x[a][c]]):\n",
        "        print(\"O azulejo %d foi pintado de %s\" % (a,c))\n"
      ],
      "metadata": {
        "id": "3yHlob53DnJK",
        "colab": {
          "base_uri": "https://localhost:8080/"
        },
        "outputId": "d434e9f2-baed-405f-e9a0-044119162a08"
      },
      "execution_count": null,
      "outputs": [
        {
          "output_type": "stream",
          "name": "stdout",
          "text": [
            "O conjunto de fórmulas é consistente.\n",
            "Exemplo:\n",
            "O azulejo 1 foi pintado de Azul\n",
            "O azulejo 2 foi pintado de Cinzento\n",
            "O azulejo 3 foi pintado de Verde\n",
            "O azulejo 4 foi pintado de Azul\n",
            "O azulejo 5 foi pintado de Cinzento\n",
            "O azulejo 6 foi pintado de Verde\n",
            "O azulejo 7 foi pintado de Azul\n",
            "O azulejo 8 foi pintado de Preto\n",
            "O azulejo 9 foi pintado de Azul\n"
          ]
        }
      ]
    },
    {
      "cell_type": "markdown",
      "source": [
        "2. Com a ajuda do solver, pronuncie-se quanto à veracidade das seguintes afirmações:"
      ],
      "metadata": {
        "id": "Iki0Iq2nDmkC"
      }
    },
    {
      "cell_type": "markdown",
      "source": [
        "> a) Se o primeiro azulejo for preto, o penúltimo azulejo tem que ser azul."
      ],
      "metadata": {
        "id": "fUFfAgunEBS-"
      }
    },
    {
      "cell_type": "code",
      "source": [
        "s.push()\n",
        "\n",
        "form1 = Implies(x[1][\"Preto\"],x[8][\"Azul\"])\n",
        "\n",
        "s.add(Not(form1))\n",
        "\n",
        "if s.check() == unsat:\n",
        "  print(\"A afirmação é verdadeira\")\n",
        "else:\n",
        "  print(\"A afirmação é falsa\")\n",
        "\n",
        "s.pop()"
      ],
      "metadata": {
        "colab": {
          "base_uri": "https://localhost:8080/"
        },
        "id": "joG7C6eCEVR0",
        "outputId": "fe1a00f4-a384-4081-ced4-70f55270f0f5"
      },
      "execution_count": null,
      "outputs": [
        {
          "output_type": "stream",
          "name": "stdout",
          "text": [
            "A afirmação é falsa\n"
          ]
        }
      ]
    },
    {
      "cell_type": "markdown",
      "source": [
        "> b) Algum dos dois últimos azulejos tem que ser preto."
      ],
      "metadata": {
        "id": "V8kr0JakElBd"
      }
    },
    {
      "cell_type": "code",
      "source": [
        "s.push()\n",
        "\n",
        "form2 = Or(x[8][\"Preto\"],x[9][\"Preto\"])\n",
        "\n",
        "s.add(Not(form2))\n",
        "\n",
        "if s.check() == unsat:\n",
        "  print(\"A afirmação é verdadeira\")\n",
        "else:\n",
        "  print(\"A afirmação é falsa\")\n",
        "\n",
        "s.pop()"
      ],
      "metadata": {
        "colab": {
          "base_uri": "https://localhost:8080/"
        },
        "id": "QHLok0APErGZ",
        "outputId": "c98d8e03-0a17-4708-e03d-efbaf96c5b0b"
      },
      "execution_count": null,
      "outputs": [
        {
          "output_type": "stream",
          "name": "stdout",
          "text": [
            "A afirmação é verdadeira\n"
          ]
        }
      ]
    },
    {
      "cell_type": "markdown",
      "source": [
        "> c) Algum dos três primeiros azulejos poderá ser azul."
      ],
      "metadata": {
        "id": "QRTsqqLEEwGw"
      }
    },
    {
      "cell_type": "code",
      "source": [
        "s.push()\n",
        "\n",
        "form3 = Or(Or([x[a][\"Azul\"] for a in azulejos[:3]]),And([Not(x[a][\"Azul\"]) for a in azulejos[:3]]))\n",
        "\n",
        "s.add(Not(form3))\n",
        "\n",
        "if s.check() == unsat:\n",
        "  print(\"A afirmação é verdadeira\")\n",
        "else:\n",
        "  print(\"A afirmação é falsa\")\n",
        "\n",
        "s.pop()"
      ],
      "metadata": {
        "colab": {
          "base_uri": "https://localhost:8080/"
        },
        "id": "141xExGbEvwu",
        "outputId": "a86a2e13-8a7d-4d2f-dc70-7f690742156c"
      },
      "execution_count": null,
      "outputs": [
        {
          "output_type": "stream",
          "name": "stdout",
          "text": [
            "A afirmação é verdadeira\n"
          ]
        }
      ]
    },
    {
      "cell_type": "markdown",
      "source": [
        "3. Acrescente código ao programa de modo a saber todas as colorações que são possíveis fazer aos azulejos. Quantas são?"
      ],
      "metadata": {
        "id": "MnpFpiplEHTl"
      }
    },
    {
      "cell_type": "code",
      "source": [
        "s.push()\n",
        "i=0\n",
        "\n",
        "while s.check() == sat:\n",
        "  i += 1\n",
        "  m = s.model()\n",
        "  constraints = []  # Clear the constraints list for each iteration\n",
        "  for a in azulejos:\n",
        "    for c in cores:\n",
        "      if is_true(m[x[a][c]]):\n",
        "        constraints.append(Not(x[a][c]))  # Append constraints to the list\n",
        "      else:\n",
        "        constraints.append(x[a][c])  # Append constraints to the list\n",
        "\n",
        "  s.add(Or(constraints))  # Add the constraints list to the solver\n",
        "else:\n",
        "  print(\"Número de soluções:\", i)"
      ],
      "metadata": {
        "colab": {
          "base_uri": "https://localhost:8080/"
        },
        "id": "J312KoCgBGW8",
        "outputId": "41f0bb11-7fd6-49f9-c0d2-a6ac6ff2f61d"
      },
      "execution_count": null,
      "outputs": [
        {
          "output_type": "stream",
          "name": "stdout",
          "text": [
            "Número de soluções: 306\n"
          ]
        }
      ]
    }
  ]
}